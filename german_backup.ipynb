{
  "nbformat": 4,
  "nbformat_minor": 0,
  "metadata": {
    "colab": {
      "name": "german_backup.ipynb",
      "provenance": [],
      "collapsed_sections": [],
      "toc_visible": true,
      "machine_shape": "hm",
      "mount_file_id": "15ZgUTKgXw9hLKlxeZbRdr5Mo9XBvvWwH",
      "authorship_tag": "ABX9TyOJcDprT/TmUZsUVgjldiX5",
      "include_colab_link": true
    },
    "kernelspec": {
      "name": "python3",
      "display_name": "Python 3"
    },
    "accelerator": "GPU"
  },
  "cells": [
    {
      "cell_type": "markdown",
      "metadata": {
        "id": "view-in-github",
        "colab_type": "text"
      },
      "source": [
        "<a href=\"https://colab.research.google.com/github/satweekcr7/german-to-english-translation/blob/master/german_backup.ipynb\" target=\"_parent\"><img src=\"https://colab.research.google.com/assets/colab-badge.svg\" alt=\"Open In Colab\"/></a>"
      ]
    },
    {
      "cell_type": "code",
      "metadata": {
        "id": "2JhOJvHjVHEU",
        "colab_type": "code",
        "colab": {
          "base_uri": "https://localhost:8080/",
          "height": 848
        },
        "outputId": "3fa541fb-961c-4aeb-d19d-79e3bb2e6aca"
      },
      "source": [
        "import string\n",
        "!pip install tensorflow==1.14.0\n",
        "import re\n",
        "from numpy import array, argmax, random, take\n",
        "import pandas as pd\n",
        "from keras.models import Sequential\n",
        "from keras.layers import Dense, LSTM, Embedding, RepeatVector\n",
        "from keras.preprocessing.text import Tokenizer\n",
        "from keras.callbacks import ModelCheckpoint\n",
        "from keras.preprocessing.sequence import pad_sequences\n",
        "from keras.models import load_model\n",
        "from keras import optimizers\n",
        "import matplotlib.pyplot as plt\n",
        "%matplotlib inline\n",
        "pd.set_option('display.max_colwidth', 200)"
      ],
      "execution_count": 4,
      "outputs": [
        {
          "output_type": "stream",
          "text": [
            "Requirement already satisfied: tensorflow==1.14.0 in /usr/local/lib/python3.6/dist-packages (1.14.0)\n",
            "Requirement already satisfied: protobuf>=3.6.1 in /usr/local/lib/python3.6/dist-packages (from tensorflow==1.14.0) (3.10.0)\n",
            "Requirement already satisfied: grpcio>=1.8.6 in /usr/local/lib/python3.6/dist-packages (from tensorflow==1.14.0) (1.27.2)\n",
            "Requirement already satisfied: numpy<2.0,>=1.14.5 in /usr/local/lib/python3.6/dist-packages (from tensorflow==1.14.0) (1.18.2)\n",
            "Requirement already satisfied: absl-py>=0.7.0 in /usr/local/lib/python3.6/dist-packages (from tensorflow==1.14.0) (0.9.0)\n",
            "Requirement already satisfied: google-pasta>=0.1.6 in /usr/local/lib/python3.6/dist-packages (from tensorflow==1.14.0) (0.2.0)\n",
            "Requirement already satisfied: gast>=0.2.0 in /usr/local/lib/python3.6/dist-packages (from tensorflow==1.14.0) (0.3.3)\n",
            "Requirement already satisfied: keras-applications>=1.0.6 in /usr/local/lib/python3.6/dist-packages (from tensorflow==1.14.0) (1.0.8)\n",
            "Requirement already satisfied: wheel>=0.26 in /usr/local/lib/python3.6/dist-packages (from tensorflow==1.14.0) (0.34.2)\n",
            "Requirement already satisfied: six>=1.10.0 in /usr/local/lib/python3.6/dist-packages (from tensorflow==1.14.0) (1.12.0)\n",
            "Requirement already satisfied: tensorflow-estimator<1.15.0rc0,>=1.14.0rc0 in /usr/local/lib/python3.6/dist-packages (from tensorflow==1.14.0) (1.14.0)\n",
            "Requirement already satisfied: keras-preprocessing>=1.0.5 in /usr/local/lib/python3.6/dist-packages (from tensorflow==1.14.0) (1.1.0)\n",
            "Requirement already satisfied: astor>=0.6.0 in /usr/local/lib/python3.6/dist-packages (from tensorflow==1.14.0) (0.8.1)\n",
            "Requirement already satisfied: tensorboard<1.15.0,>=1.14.0 in /usr/local/lib/python3.6/dist-packages (from tensorflow==1.14.0) (1.14.0)\n",
            "Requirement already satisfied: wrapt>=1.11.1 in /usr/local/lib/python3.6/dist-packages (from tensorflow==1.14.0) (1.12.1)\n",
            "Requirement already satisfied: termcolor>=1.1.0 in /usr/local/lib/python3.6/dist-packages (from tensorflow==1.14.0) (1.1.0)\n",
            "Requirement already satisfied: setuptools in /usr/local/lib/python3.6/dist-packages (from protobuf>=3.6.1->tensorflow==1.14.0) (46.1.3)\n",
            "Requirement already satisfied: h5py in /usr/local/lib/python3.6/dist-packages (from keras-applications>=1.0.6->tensorflow==1.14.0) (2.10.0)\n",
            "Requirement already satisfied: werkzeug>=0.11.15 in /usr/local/lib/python3.6/dist-packages (from tensorboard<1.15.0,>=1.14.0->tensorflow==1.14.0) (1.0.1)\n",
            "Requirement already satisfied: markdown>=2.6.8 in /usr/local/lib/python3.6/dist-packages (from tensorboard<1.15.0,>=1.14.0->tensorflow==1.14.0) (3.2.1)\n"
          ],
          "name": "stdout"
        },
        {
          "output_type": "stream",
          "text": [
            "Using TensorFlow backend.\n",
            "/usr/local/lib/python3.6/dist-packages/tensorflow/python/framework/dtypes.py:516: FutureWarning: Passing (type, 1) or '1type' as a synonym of type is deprecated; in a future version of numpy, it will be understood as (type, (1,)) / '(1,)type'.\n",
            "  _np_qint8 = np.dtype([(\"qint8\", np.int8, 1)])\n",
            "/usr/local/lib/python3.6/dist-packages/tensorflow/python/framework/dtypes.py:517: FutureWarning: Passing (type, 1) or '1type' as a synonym of type is deprecated; in a future version of numpy, it will be understood as (type, (1,)) / '(1,)type'.\n",
            "  _np_quint8 = np.dtype([(\"quint8\", np.uint8, 1)])\n",
            "/usr/local/lib/python3.6/dist-packages/tensorflow/python/framework/dtypes.py:518: FutureWarning: Passing (type, 1) or '1type' as a synonym of type is deprecated; in a future version of numpy, it will be understood as (type, (1,)) / '(1,)type'.\n",
            "  _np_qint16 = np.dtype([(\"qint16\", np.int16, 1)])\n",
            "/usr/local/lib/python3.6/dist-packages/tensorflow/python/framework/dtypes.py:519: FutureWarning: Passing (type, 1) or '1type' as a synonym of type is deprecated; in a future version of numpy, it will be understood as (type, (1,)) / '(1,)type'.\n",
            "  _np_quint16 = np.dtype([(\"quint16\", np.uint16, 1)])\n",
            "/usr/local/lib/python3.6/dist-packages/tensorflow/python/framework/dtypes.py:520: FutureWarning: Passing (type, 1) or '1type' as a synonym of type is deprecated; in a future version of numpy, it will be understood as (type, (1,)) / '(1,)type'.\n",
            "  _np_qint32 = np.dtype([(\"qint32\", np.int32, 1)])\n",
            "/usr/local/lib/python3.6/dist-packages/tensorflow/python/framework/dtypes.py:525: FutureWarning: Passing (type, 1) or '1type' as a synonym of type is deprecated; in a future version of numpy, it will be understood as (type, (1,)) / '(1,)type'.\n",
            "  np_resource = np.dtype([(\"resource\", np.ubyte, 1)])\n",
            "/usr/local/lib/python3.6/dist-packages/tensorboard/compat/tensorflow_stub/dtypes.py:541: FutureWarning: Passing (type, 1) or '1type' as a synonym of type is deprecated; in a future version of numpy, it will be understood as (type, (1,)) / '(1,)type'.\n",
            "  _np_qint8 = np.dtype([(\"qint8\", np.int8, 1)])\n",
            "/usr/local/lib/python3.6/dist-packages/tensorboard/compat/tensorflow_stub/dtypes.py:542: FutureWarning: Passing (type, 1) or '1type' as a synonym of type is deprecated; in a future version of numpy, it will be understood as (type, (1,)) / '(1,)type'.\n",
            "  _np_quint8 = np.dtype([(\"quint8\", np.uint8, 1)])\n",
            "/usr/local/lib/python3.6/dist-packages/tensorboard/compat/tensorflow_stub/dtypes.py:543: FutureWarning: Passing (type, 1) or '1type' as a synonym of type is deprecated; in a future version of numpy, it will be understood as (type, (1,)) / '(1,)type'.\n",
            "  _np_qint16 = np.dtype([(\"qint16\", np.int16, 1)])\n",
            "/usr/local/lib/python3.6/dist-packages/tensorboard/compat/tensorflow_stub/dtypes.py:544: FutureWarning: Passing (type, 1) or '1type' as a synonym of type is deprecated; in a future version of numpy, it will be understood as (type, (1,)) / '(1,)type'.\n",
            "  _np_quint16 = np.dtype([(\"quint16\", np.uint16, 1)])\n",
            "/usr/local/lib/python3.6/dist-packages/tensorboard/compat/tensorflow_stub/dtypes.py:545: FutureWarning: Passing (type, 1) or '1type' as a synonym of type is deprecated; in a future version of numpy, it will be understood as (type, (1,)) / '(1,)type'.\n",
            "  _np_qint32 = np.dtype([(\"qint32\", np.int32, 1)])\n",
            "/usr/local/lib/python3.6/dist-packages/tensorboard/compat/tensorflow_stub/dtypes.py:550: FutureWarning: Passing (type, 1) or '1type' as a synonym of type is deprecated; in a future version of numpy, it will be understood as (type, (1,)) / '(1,)type'.\n",
            "  np_resource = np.dtype([(\"resource\", np.ubyte, 1)])\n"
          ],
          "name": "stderr"
        },
        {
          "output_type": "display_data",
          "data": {
            "text/html": [
              "<p style=\"color: red;\">\n",
              "The default version of TensorFlow in Colab will switch to TensorFlow 2.x on the 27th of March, 2020.<br>\n",
              "We recommend you <a href=\"https://www.tensorflow.org/guide/migrate\" target=\"_blank\">upgrade</a> now\n",
              "or ensure your notebook will continue to use TensorFlow 1.x via the <code>%tensorflow_version 1.x</code> magic:\n",
              "<a href=\"https://colab.research.google.com/notebooks/tensorflow_version.ipynb\" target=\"_blank\">more info</a>.</p>\n"
            ],
            "text/plain": [
              "<IPython.core.display.HTML object>"
            ]
          },
          "metadata": {
            "tags": []
          }
        }
      ]
    },
    {
      "cell_type": "code",
      "metadata": {
        "id": "rQt6DH07nHLc",
        "colab_type": "code",
        "colab": {}
      },
      "source": [
        "\n"
      ],
      "execution_count": 0,
      "outputs": []
    },
    {
      "cell_type": "code",
      "metadata": {
        "id": "b2hU6e05VS08",
        "colab_type": "code",
        "colab": {}
      },
      "source": [
        "# function to read raw text file\n",
        "def read_text(filename):\n",
        "        # open the file\n",
        "        file = open(filename, mode='rt', encoding='utf-8')\n",
        "        \n",
        "        # read all text\n",
        "        text = file.read()\n",
        "        file.close()\n",
        "        return text"
      ],
      "execution_count": 0,
      "outputs": []
    },
    {
      "cell_type": "code",
      "metadata": {
        "id": "dcofwXi6Vlex",
        "colab_type": "code",
        "colab": {}
      },
      "source": [
        "# split a text into sentences\n",
        "def to_lines(text):\n",
        "      sents = text.strip().split('\\n')\n",
        "      sents = [i.split('\\t') for i in sents]\n",
        "      return sents"
      ],
      "execution_count": 0,
      "outputs": []
    },
    {
      "cell_type": "code",
      "metadata": {
        "id": "Qm__kK-dVz1A",
        "colab_type": "code",
        "colab": {}
      },
      "source": [
        "data = read_text(\"/content/drive/My Drive/nlp/deu.txt\")\n",
        "deu_eng = to_lines(data)\n",
        "deu_eng = array(deu_eng)"
      ],
      "execution_count": 0,
      "outputs": []
    },
    {
      "cell_type": "code",
      "metadata": {
        "id": "3cR5S3zEWm4m",
        "colab_type": "code",
        "colab": {}
      },
      "source": [
        "# Remove punctuation\n",
        "deu_eng[:,0] = [s.translate(str.maketrans('', '', string.punctuation)) for s in deu_eng[:,0]]\n",
        "deu_eng[:,1] = [s.translate(str.maketrans('', '', string.punctuation)) for s in deu_eng[:,1]]"
      ],
      "execution_count": 0,
      "outputs": []
    },
    {
      "cell_type": "code",
      "metadata": {
        "id": "1QDjG0MNW6Xd",
        "colab_type": "code",
        "colab": {}
      },
      "source": [
        "# convert text to lowercase\n",
        "for i in range(len(deu_eng)):\n",
        "    deu_eng[i,0] = deu_eng[i,0].lower()\n",
        "    deu_eng[i,1] = deu_eng[i,1].lower()"
      ],
      "execution_count": 0,
      "outputs": []
    },
    {
      "cell_type": "code",
      "metadata": {
        "id": "Pitn5bVXW-Vk",
        "colab_type": "code",
        "outputId": "2b0f4c2e-3d63-4ae6-efc6-4b24f37eeca6",
        "colab": {
          "base_uri": "https://localhost:8080/",
          "height": 281
        }
      },
      "source": [
        "# empty lists\n",
        "eng_l = []\n",
        "deu_l = []\n",
        "\n",
        "# populate the lists with sentence lengths\n",
        "for i in deu_eng[:,0]:\n",
        "      eng_l.append(len(i.split()))\n",
        "\n",
        "for i in deu_eng[:,1]:\n",
        "      deu_l.append(len(i.split()))\n",
        "\n",
        "length_df = pd.DataFrame({'eng':eng_l, 'deu':deu_l})\n",
        "\n",
        "length_df.hist(bins = 30)\n",
        "plt.show()"
      ],
      "execution_count": 10,
      "outputs": [
        {
          "output_type": "display_data",
          "data": {
            "image/png": "[encoded data removed]",
            "text/plain": [
              "<Figure size 432x288 with 2 Axes>"
            ]
          },
          "metadata": {
            "tags": []
          }
        }
      ]
    },
    {
      "cell_type": "code",
      "metadata": {
        "id": "AkVMELJuXGBe",
        "colab_type": "code",
        "colab": {}
      },
      "source": [
        "# function to build a tokenizer\n",
        "def tokenization(lines):\n",
        "      tokenizer = Tokenizer()\n",
        "      tokenizer.fit_on_texts(lines)\n",
        "      return tokenizer"
      ],
      "execution_count": 0,
      "outputs": []
    },
    {
      "cell_type": "code",
      "metadata": {
        "id": "l4whnjVSXIyP",
        "colab_type": "code",
        "colab": {
          "base_uri": "https://localhost:8080/",
          "height": 34
        },
        "outputId": "80d56af5-4a1a-4474-a5a8-f8fb1511fc36"
      },
      "source": [
        "# prepare english tokenizer\n",
        "eng_tokenizer = tokenization(deu_eng[:, 0])\n",
        "eng_vocab_size = len(eng_tokenizer.word_index) + 1\n",
        "\n",
        "eng_length = 8\n",
        "print('English Vocabulary Size: %d' % eng_vocab_size)"
      ],
      "execution_count": 12,
      "outputs": [
        {
          "output_type": "stream",
          "text": [
            "English Vocabulary Size: 16380\n"
          ],
          "name": "stdout"
        }
      ]
    },
    {
      "cell_type": "code",
      "metadata": {
        "id": "odGmRWb0XMf2",
        "colab_type": "code",
        "colab": {
          "base_uri": "https://localhost:8080/",
          "height": 34
        },
        "outputId": "ddc2d871-4c8b-4158-947e-14b4c7a01cc2"
      },
      "source": [
        "# prepare Deutch tokenizer\n",
        "deu_tokenizer = tokenization(deu_eng[:, 1])\n",
        "deu_vocab_size = len(deu_tokenizer.word_index) + 1\n",
        "\n",
        "deu_length = 8\n",
        "print('Deutch Vocabulary Size: %d' % deu_vocab_size)"
      ],
      "execution_count": 13,
      "outputs": [
        {
          "output_type": "stream",
          "text": [
            "Deutch Vocabulary Size: 35442\n"
          ],
          "name": "stdout"
        }
      ]
    },
    {
      "cell_type": "code",
      "metadata": {
        "id": "uz7cA3nkXR67",
        "colab_type": "code",
        "colab": {}
      },
      "source": [
        "# encode and pad sequences\n",
        "def encode_sequences(tokenizer, length, lines):\n",
        "         # integer encode sequences\n",
        "         seq = tokenizer.texts_to_sequences(lines)\n",
        "         # pad sequences with 0 values\n",
        "         seq = pad_sequences(seq, maxlen=length, padding='post')\n",
        "         return seq"
      ],
      "execution_count": 0,
      "outputs": []
    },
    {
      "cell_type": "code",
      "metadata": {
        "id": "KRuiIZHCXVgm",
        "colab_type": "code",
        "colab": {}
      },
      "source": [
        "from sklearn.model_selection import train_test_split\n",
        "\n",
        "# split data into train and test set\n",
        "train, test = train_test_split(deu_eng, test_size=0.2, random_state = 12)"
      ],
      "execution_count": 0,
      "outputs": []
    },
    {
      "cell_type": "code",
      "metadata": {
        "id": "A_XrSE_XXbL9",
        "colab_type": "code",
        "colab": {}
      },
      "source": [
        "# prepare training data\n",
        "trainX = encode_sequences(deu_tokenizer, deu_length, train[:, 1])\n",
        "trainY = encode_sequences(eng_tokenizer, eng_length, train[:, 0])\n",
        "\n",
        "# prepare validation data\n",
        "testX = encode_sequences(deu_tokenizer, deu_length, test[:, 1])\n",
        "testY = encode_sequences(eng_tokenizer, eng_length, test[:, 0])"
      ],
      "execution_count": 0,
      "outputs": []
    },
    {
      "cell_type": "code",
      "metadata": {
        "id": "mgtxBZT0Xe7Z",
        "colab_type": "code",
        "colab": {}
      },
      "source": [
        "# build NMT model\n",
        "def define_model(in_vocab,out_vocab, in_timesteps,out_timesteps,units):\n",
        "      model = Sequential()\n",
        "      model.add(Embedding(in_vocab, units, input_length=in_timesteps, mask_zero=True))\n",
        "      model.add(LSTM(units))\n",
        "      model.add(RepeatVector(out_timesteps))\n",
        "      model.add(LSTM(units, return_sequences=True))\n",
        "      model.add(Dense(out_vocab, activation='softmax'))\n",
        "      return model"
      ],
      "execution_count": 0,
      "outputs": []
    },
    {
      "cell_type": "code",
      "metadata": {
        "id": "aLjQp92oXj7T",
        "colab_type": "code",
        "colab": {
          "base_uri": "https://localhost:8080/",
          "height": 190
        },
        "outputId": "96feda54-2aa2-44e8-c275-a3c9b66eac87"
      },
      "source": [
        "# model compilation\n",
        "model = define_model(deu_vocab_size, eng_vocab_size, deu_length, eng_length, 512)"
      ],
      "execution_count": 18,
      "outputs": [
        {
          "output_type": "stream",
          "text": [
            "WARNING:tensorflow:From /usr/local/lib/python3.6/dist-packages/keras/backend/tensorflow_backend.py:66: The name tf.get_default_graph is deprecated. Please use tf.compat.v1.get_default_graph instead.\n",
            "\n",
            "WARNING:tensorflow:From /usr/local/lib/python3.6/dist-packages/keras/backend/tensorflow_backend.py:541: The name tf.placeholder is deprecated. Please use tf.compat.v1.placeholder instead.\n",
            "\n",
            "WARNING:tensorflow:From /usr/local/lib/python3.6/dist-packages/keras/backend/tensorflow_backend.py:4432: The name tf.random_uniform is deprecated. Please use tf.random.uniform instead.\n",
            "\n",
            "WARNING:tensorflow:From /usr/local/lib/python3.6/dist-packages/keras/backend/tensorflow_backend.py:3239: add_dispatch_support.<locals>.wrapper (from tensorflow.python.ops.array_ops) is deprecated and will be removed in a future version.\n",
            "Instructions for updating:\n",
            "Use tf.where in 2.0, which has the same broadcast rule as np.where\n"
          ],
          "name": "stdout"
        }
      ]
    },
    {
      "cell_type": "code",
      "metadata": {
        "id": "GYDL4aG5XoMr",
        "colab_type": "code",
        "colab": {
          "base_uri": "https://localhost:8080/",
          "height": 105
        },
        "outputId": "a94b44c0-f819-4d20-acf9-2a625cc55b0b"
      },
      "source": [
        "rms = optimizers.RMSprop(lr=0.001)\n",
        "model.compile(optimizer=rms, loss='sparse_categorical_crossentropy')"
      ],
      "execution_count": 19,
      "outputs": [
        {
          "output_type": "stream",
          "text": [
            "WARNING:tensorflow:From /usr/local/lib/python3.6/dist-packages/keras/optimizers.py:793: The name tf.train.Optimizer is deprecated. Please use tf.compat.v1.train.Optimizer instead.\n",
            "\n",
            "WARNING:tensorflow:From /usr/local/lib/python3.6/dist-packages/keras/backend/tensorflow_backend.py:3622: The name tf.log is deprecated. Please use tf.math.log instead.\n",
            "\n"
          ],
          "name": "stdout"
        }
      ]
    },
    {
      "cell_type": "code",
      "metadata": {
        "id": "YSkmCn7DXsY2",
        "colab_type": "code",
        "colab": {
          "base_uri": "https://localhost:8080/",
          "height": 1000
        },
        "outputId": "85430713-067d-404c-8612-ffe609d3a00c"
      },
      "source": [
        "filename = '/content/drive/My Drive/nlp/german_latest.h5'\n",
        "checkpoint = ModelCheckpoint(filename, monitor='val_loss', verbose=1, save_best_only=True, mode='min')\n",
        "\n",
        "# train model\n",
        "history = model.fit(trainX, trainY.reshape(trainY.shape[0], trainY.shape[1], 1),\n",
        "                    epochs=15, batch_size=512, validation_split = 0.2,callbacks=[checkpoint], \n",
        "                    verbose=1)"
      ],
      "execution_count": 20,
      "outputs": [
        {
          "output_type": "stream",
          "text": [
            "WARNING:tensorflow:From /usr/local/lib/python3.6/dist-packages/keras/backend/tensorflow_backend.py:1033: The name tf.assign_add is deprecated. Please use tf.compat.v1.assign_add instead.\n",
            "\n",
            "Train on 130927 samples, validate on 32732 samples\n",
            "Epoch 1/15\n",
            "130927/130927 [==============================] - 1377s 11ms/step - loss: 4.9455 - val_loss: 4.6423\n",
            "\n",
            "Epoch 00001: val_loss improved from inf to 4.64235, saving model to /content/drive/My Drive/nlp/german_latest.h5\n",
            "Epoch 2/15\n",
            "130927/130927 [==============================] - 1382s 11ms/step - loss: 4.3534 - val_loss: 4.1159\n",
            "\n",
            "Epoch 00002: val_loss improved from 4.64235 to 4.11591, saving model to /content/drive/My Drive/nlp/german_latest.h5\n",
            "Epoch 3/15\n",
            "130927/130927 [==============================] - 1369s 10ms/step - loss: 3.9002 - val_loss: 3.7282\n",
            "\n",
            "Epoch 00003: val_loss improved from 4.11591 to 3.72817, saving model to /content/drive/My Drive/nlp/german_latest.h5\n",
            "Epoch 4/15\n",
            "130927/130927 [==============================] - 1372s 10ms/step - loss: 3.5005 - val_loss: 3.3872\n",
            "\n",
            "Epoch 00004: val_loss improved from 3.72817 to 3.38717, saving model to /content/drive/My Drive/nlp/german_latest.h5\n",
            "Epoch 5/15\n",
            "130927/130927 [==============================] - 1392s 11ms/step - loss: 3.1407 - val_loss: 3.1243\n",
            "\n",
            "Epoch 00005: val_loss improved from 3.38717 to 3.12427, saving model to /content/drive/My Drive/nlp/german_latest.h5\n",
            "Epoch 6/15\n",
            "130927/130927 [==============================] - 1387s 11ms/step - loss: 2.8408 - val_loss: 2.8934\n",
            "\n",
            "Epoch 00006: val_loss improved from 3.12427 to 2.89337, saving model to /content/drive/My Drive/nlp/german_latest.h5\n",
            "Epoch 7/15\n",
            "130927/130927 [==============================] - 1392s 11ms/step - loss: 2.5924 - val_loss: 2.7479\n",
            "\n",
            "Epoch 00007: val_loss improved from 2.89337 to 2.74793, saving model to /content/drive/My Drive/nlp/german_latest.h5\n",
            "Epoch 8/15\n",
            "130927/130927 [==============================] - 1384s 11ms/step - loss: 2.3824 - val_loss: 2.6145\n",
            "\n",
            "Epoch 00008: val_loss improved from 2.74793 to 2.61449, saving model to /content/drive/My Drive/nlp/german_latest.h5\n",
            "Epoch 9/15\n",
            "130927/130927 [==============================] - 1394s 11ms/step - loss: 2.2017 - val_loss: 2.5521\n",
            "\n",
            "Epoch 00009: val_loss improved from 2.61449 to 2.55206, saving model to /content/drive/My Drive/nlp/german_latest.h5\n",
            "Epoch 10/15\n",
            "130927/130927 [==============================] - 1398s 11ms/step - loss: 2.0420 - val_loss: 2.4714\n",
            "\n",
            "Epoch 00010: val_loss improved from 2.55206 to 2.47144, saving model to /content/drive/My Drive/nlp/german_latest.h5\n",
            "Epoch 11/15\n",
            "130927/130927 [==============================] - 1406s 11ms/step - loss: 1.9009 - val_loss: 2.4174\n",
            "\n",
            "Epoch 00011: val_loss improved from 2.47144 to 2.41741, saving model to /content/drive/My Drive/nlp/german_latest.h5\n",
            "Epoch 12/15\n",
            "130927/130927 [==============================] - 1409s 11ms/step - loss: 1.7718 - val_loss: 2.3841\n",
            "\n",
            "Epoch 00012: val_loss improved from 2.41741 to 2.38414, saving model to /content/drive/My Drive/nlp/german_latest.h5\n",
            "Epoch 13/15\n",
            "130927/130927 [==============================] - 1404s 11ms/step - loss: 1.6542 - val_loss: 2.3652\n",
            "\n",
            "Epoch 00013: val_loss improved from 2.38414 to 2.36522, saving model to /content/drive/My Drive/nlp/german_latest.h5\n",
            "Epoch 14/15\n",
            "130927/130927 [==============================] - 1404s 11ms/step - loss: 1.5461 - val_loss: 2.3479\n",
            "\n",
            "Epoch 00014: val_loss improved from 2.36522 to 2.34793, saving model to /content/drive/My Drive/nlp/german_latest.h5\n",
            "Epoch 15/15\n",
            "130560/130927 [============================>.] - ETA: 3s - loss: 1.4420WARNING:tensorflow:From /usr/local/lib/python3.6/dist-packages/keras/backend/tensorflow_backend.py:1033: The name tf.assign_add is deprecated. Please use tf.compat.v1.assign_add instead.\n",
            "\n",
            "Train on 130927 samples, validate on 32732 samples\n",
            "Epoch 1/15\n",
            "130927/130927 [==============================] - 1377s 11ms/step - loss: 4.9455 - val_loss: 4.6423\n",
            "\n",
            "Epoch 00001: val_loss improved from inf to 4.64235, saving model to /content/drive/My Drive/nlp/german_latest.h5\n",
            "Epoch 2/15\n",
            "130927/130927 [==============================] - 1382s 11ms/step - loss: 4.3534 - val_loss: 4.1159\n",
            "\n",
            "Epoch 00002: val_loss improved from 4.64235 to 4.11591, saving model to /content/drive/My Drive/nlp/german_latest.h5\n",
            "Epoch 3/15\n",
            "130927/130927 [==============================] - 1369s 10ms/step - loss: 3.9002 - val_loss: 3.7282\n",
            "\n",
            "Epoch 00003: val_loss improved from 4.11591 to 3.72817, saving model to /content/drive/My Drive/nlp/german_latest.h5\n",
            "Epoch 4/15\n",
            "130927/130927 [==============================] - 1372s 10ms/step - loss: 3.5005 - val_loss: 3.3872\n",
            "\n",
            "Epoch 00004: val_loss improved from 3.72817 to 3.38717, saving model to /content/drive/My Drive/nlp/german_latest.h5\n",
            "Epoch 5/15\n",
            "130927/130927 [==============================] - 1392s 11ms/step - loss: 3.1407 - val_loss: 3.1243\n",
            "\n",
            "Epoch 00005: val_loss improved from 3.38717 to 3.12427, saving model to /content/drive/My Drive/nlp/german_latest.h5\n",
            "Epoch 6/15\n",
            "130927/130927 [==============================] - 1387s 11ms/step - loss: 2.8408 - val_loss: 2.8934\n",
            "\n",
            "Epoch 00006: val_loss improved from 3.12427 to 2.89337, saving model to /content/drive/My Drive/nlp/german_latest.h5\n",
            "Epoch 7/15\n",
            "130927/130927 [==============================] - 1392s 11ms/step - loss: 2.5924 - val_loss: 2.7479\n",
            "\n",
            "Epoch 00007: val_loss improved from 2.89337 to 2.74793, saving model to /content/drive/My Drive/nlp/german_latest.h5\n",
            "Epoch 8/15\n",
            "130927/130927 [==============================] - 1384s 11ms/step - loss: 2.3824 - val_loss: 2.6145\n",
            "\n",
            "Epoch 00008: val_loss improved from 2.74793 to 2.61449, saving model to /content/drive/My Drive/nlp/german_latest.h5\n",
            "Epoch 9/15\n",
            "130927/130927 [==============================] - 1394s 11ms/step - loss: 2.2017 - val_loss: 2.5521\n",
            "\n",
            "Epoch 00009: val_loss improved from 2.61449 to 2.55206, saving model to /content/drive/My Drive/nlp/german_latest.h5\n",
            "Epoch 10/15\n",
            "130927/130927 [==============================] - 1398s 11ms/step - loss: 2.0420 - val_loss: 2.4714\n",
            "\n",
            "Epoch 00010: val_loss improved from 2.55206 to 2.47144, saving model to /content/drive/My Drive/nlp/german_latest.h5\n",
            "Epoch 11/15\n",
            "130927/130927 [==============================] - 1406s 11ms/step - loss: 1.9009 - val_loss: 2.4174\n",
            "\n",
            "Epoch 00011: val_loss improved from 2.47144 to 2.41741, saving model to /content/drive/My Drive/nlp/german_latest.h5\n",
            "Epoch 12/15\n",
            "130927/130927 [==============================] - 1409s 11ms/step - loss: 1.7718 - val_loss: 2.3841\n",
            "\n",
            "Epoch 00012: val_loss improved from 2.41741 to 2.38414, saving model to /content/drive/My Drive/nlp/german_latest.h5\n",
            "Epoch 13/15\n",
            "130927/130927 [==============================] - 1404s 11ms/step - loss: 1.6542 - val_loss: 2.3652\n",
            "\n",
            "Epoch 00013: val_loss improved from 2.38414 to 2.36522, saving model to /content/drive/My Drive/nlp/german_latest.h5\n",
            "Epoch 14/15\n",
            "130927/130927 [==============================] - 1404s 11ms/step - loss: 1.5461 - val_loss: 2.3479\n",
            "\n",
            "Epoch 00014: val_loss improved from 2.36522 to 2.34793, saving model to /content/drive/My Drive/nlp/german_latest.h5\n",
            "Epoch 15/15\n",
            "130927/130927 [==============================] - 1406s 11ms/step - loss: 1.4425 - val_loss: 2.3459\n",
            "130927/130927 [==============================] - 1406s 11ms/step - loss: 1.4425 - val_loss: 2.3459\n",
            "\n",
            "Epoch 00015: val_loss improved from 2.34793 to 2.34588, saving model to /content/drive/My Drive/nlp/german_latest.h5\n",
            "\n",
            "Epoch 00015: val_loss improved from 2.34793 to 2.34588, saving model to /content/drive/My Drive/nlp/german_latest.h5\n"
          ],
          "name": "stdout"
        }
      ]
    },
    {
      "cell_type": "code",
      "metadata": {
        "id": "KDDGkuJcYTrl",
        "colab_type": "code",
        "colab": {}
      },
      "source": [
        "plt.plot(history.history['loss'])\n",
        "plt.plot(history.history['val_loss'])\n",
        "plt.legend(['train','validation'])\n",
        "plt.show()"
      ],
      "execution_count": 0,
      "outputs": []
    },
    {
      "cell_type": "code",
      "metadata": {
        "id": "ViXogcDyYXzx",
        "colab_type": "code",
        "colab": {}
      },
      "source": [
        "model = load_model('/content/drive/My Drive/nlp/german_latest.h5')\n",
        "preds = model.predict_classes(testX.reshape((testX.shape[0],testX.shape[1])))"
      ],
      "execution_count": 0,
      "outputs": []
    },
    {
      "cell_type": "code",
      "metadata": {
        "id": "GDPmyOOgYfzQ",
        "colab_type": "code",
        "colab": {}
      },
      "source": [
        "def get_word(n, tokenizer):\n",
        "      for word, index in tokenizer.word_index.items():\n",
        "          if index == n:\n",
        "              return word\n",
        "      return None"
      ],
      "execution_count": 0,
      "outputs": []
    },
    {
      "cell_type": "code",
      "metadata": {
        "id": "vxJ4UpenYlL-",
        "colab_type": "code",
        "colab": {}
      },
      "source": [
        "preds_text = []\n",
        "for i in preds:\n",
        "       temp = []\n",
        "       for j in range(len(i)):\n",
        "            t = get_word(i[j], eng_tokenizer)\n",
        "            if j > 0:\n",
        "                if (t == get_word(i[j-1], eng_tokenizer)) or (t == None):\n",
        "                     temp.append('')\n",
        "                else:\n",
        "                     temp.append(t)\n",
        "            else:\n",
        "                   if(t == None):\n",
        "                          temp.append('')\n",
        "                   else:\n",
        "                          temp.append(t) \n",
        "\n",
        "       preds_text.append(' '.join(temp))"
      ],
      "execution_count": 0,
      "outputs": []
    },
    {
      "cell_type": "code",
      "metadata": {
        "id": "tknLgOYvYrJm",
        "colab_type": "code",
        "colab": {}
      },
      "source": [
        "pred_df = pd.DataFrame({'actual' : test[:,0], 'predicted' : preds_text})"
      ],
      "execution_count": 0,
      "outputs": []
    },
    {
      "cell_type": "code",
      "metadata": {
        "id": "EfYgK2LtY63n",
        "colab_type": "code",
        "colab": {
          "base_uri": "https://localhost:8080/",
          "height": 1000
        },
        "outputId": "cbad8736-b582-4759-c3cb-6bb35f2a1e16"
      },
      "source": [
        "# print 15 rows randomly\n",
        "pred_df.sample(15)"
      ],
      "execution_count": 26,
      "outputs": [
        {
          "output_type": "execute_result",
          "data": {
            "text/html": [
              "<div>\n",
              "<style scoped>\n",
              "    .dataframe tbody tr th:only-of-type {\n",
              "        vertical-align: middle;\n",
              "    }\n",
              "\n",
              "    .dataframe tbody tr th {\n",
              "        vertical-align: top;\n",
              "    }\n",
              "\n",
              "    .dataframe thead th {\n",
              "        text-align: right;\n",
              "    }\n",
              "</style>\n",
              "<table border=\"1\" class=\"dataframe\">\n",
              "  <thead>\n",
              "    <tr style=\"text-align: right;\">\n",
              "      <th></th>\n",
              "      <th>actual</th>\n",
              "      <th>predicted</th>\n",
              "    </tr>\n",
              "  </thead>\n",
              "  <tbody>\n",
              "    <tr>\n",
              "      <th>18750</th>\n",
              "      <td>you cant have your own way in everything</td>\n",
              "      <td>you cant have your  way  everything</td>\n",
              "    </tr>\n",
              "    <tr>\n",
              "      <th>24592</th>\n",
              "      <td>there are a lot of english books in this library</td>\n",
              "      <td>have a many books  in the library</td>\n",
              "    </tr>\n",
              "    <tr>\n",
              "      <th>22681</th>\n",
              "      <td>my father encouraged me to study the piano</td>\n",
              "      <td>my father me  to   study</td>\n",
              "    </tr>\n",
              "    <tr>\n",
              "      <th>5370</th>\n",
              "      <td>tom is now a multimillionaire</td>\n",
              "      <td>tom is a now</td>\n",
              "    </tr>\n",
              "    <tr>\n",
              "      <th>2128</th>\n",
              "      <td>i bought a red sweater at that shop</td>\n",
              "      <td>bought   white sweater in this</td>\n",
              "    </tr>\n",
              "    <tr>\n",
              "      <th>16074</th>\n",
              "      <td>you are a workaholic</td>\n",
              "      <td>youre a workaholic</td>\n",
              "    </tr>\n",
              "    <tr>\n",
              "      <th>2292</th>\n",
              "      <td>i might be able to help you</td>\n",
              "      <td>i may can help you</td>\n",
              "    </tr>\n",
              "    <tr>\n",
              "      <th>23563</th>\n",
              "      <td>you should work in the interests of humanity</td>\n",
              "      <td>you should be interested in  class you</td>\n",
              "    </tr>\n",
              "    <tr>\n",
              "      <th>10931</th>\n",
              "      <td>i think you like tom</td>\n",
              "      <td>i think you like tom</td>\n",
              "    </tr>\n",
              "    <tr>\n",
              "      <th>35231</th>\n",
              "      <td>you place me in a difficult position</td>\n",
              "      <td>you make me a  great</td>\n",
              "    </tr>\n",
              "    <tr>\n",
              "      <th>27542</th>\n",
              "      <td>you reek of alcohol</td>\n",
              "      <td>you are a</td>\n",
              "    </tr>\n",
              "    <tr>\n",
              "      <th>40811</th>\n",
              "      <td>do you want him</td>\n",
              "      <td>do you want it</td>\n",
              "    </tr>\n",
              "    <tr>\n",
              "      <th>26079</th>\n",
              "      <td>tom always washes his hands before eating anything</td>\n",
              "      <td>tom always eat before   he eating</td>\n",
              "    </tr>\n",
              "    <tr>\n",
              "      <th>39007</th>\n",
              "      <td>his picture was in the newspaper</td>\n",
              "      <td>the book was on the paper</td>\n",
              "    </tr>\n",
              "    <tr>\n",
              "      <th>19824</th>\n",
              "      <td>do you think itll be easy to find a job in boston</td>\n",
              "      <td>its is in   to in place</td>\n",
              "    </tr>\n",
              "  </tbody>\n",
              "</table>\n",
              "</div>"
            ],
            "text/plain": [
              "                                                   actual                               predicted\n",
              "18750            you cant have your own way in everything     you cant have your  way  everything\n",
              "24592    there are a lot of english books in this library       have a many books  in the library\n",
              "22681          my father encouraged me to study the piano                my father me  to   study\n",
              "5370                        tom is now a multimillionaire                        tom is a now    \n",
              "2128                  i bought a red sweater at that shop         bought   white sweater in this \n",
              "16074                                you are a workaholic                 youre a workaholic     \n",
              "2292                          i might be able to help you                   i may can help you   \n",
              "23563        you should work in the interests of humanity  you should be interested in  class you\n",
              "10931                                i think you like tom                 i think you like tom   \n",
              "35231                you place me in a difficult position                  you make me a  great  \n",
              "27542                                 you reek of alcohol                          you are a     \n",
              "40811                                     do you want him                      do you want it    \n",
              "26079  tom always washes his hands before eating anything       tom always eat before   he eating\n",
              "39007                    his picture was in the newspaper             the book was on the paper  \n",
              "19824   do you think itll be easy to find a job in boston                 its is in   to in place"
            ]
          },
          "metadata": {
            "tags": []
          },
          "execution_count": 26
        },
        {
          "output_type": "execute_result",
          "data": {
            "text/html": [
              "<div>\n",
              "<style scoped>\n",
              "    .dataframe tbody tr th:only-of-type {\n",
              "        vertical-align: middle;\n",
              "    }\n",
              "\n",
              "    .dataframe tbody tr th {\n",
              "        vertical-align: top;\n",
              "    }\n",
              "\n",
              "    .dataframe thead th {\n",
              "        text-align: right;\n",
              "    }\n",
              "</style>\n",
              "<table border=\"1\" class=\"dataframe\">\n",
              "  <thead>\n",
              "    <tr style=\"text-align: right;\">\n",
              "      <th></th>\n",
              "      <th>actual</th>\n",
              "      <th>predicted</th>\n",
              "    </tr>\n",
              "  </thead>\n",
              "  <tbody>\n",
              "    <tr>\n",
              "      <th>18750</th>\n",
              "      <td>you cant have your own way in everything</td>\n",
              "      <td>you cant have your  way  everything</td>\n",
              "    </tr>\n",
              "    <tr>\n",
              "      <th>24592</th>\n",
              "      <td>there are a lot of english books in this library</td>\n",
              "      <td>have a many books  in the library</td>\n",
              "    </tr>\n",
              "    <tr>\n",
              "      <th>22681</th>\n",
              "      <td>my father encouraged me to study the piano</td>\n",
              "      <td>my father me  to   study</td>\n",
              "    </tr>\n",
              "    <tr>\n",
              "      <th>5370</th>\n",
              "      <td>tom is now a multimillionaire</td>\n",
              "      <td>tom is a now</td>\n",
              "    </tr>\n",
              "    <tr>\n",
              "      <th>2128</th>\n",
              "      <td>i bought a red sweater at that shop</td>\n",
              "      <td>bought   white sweater in this</td>\n",
              "    </tr>\n",
              "    <tr>\n",
              "      <th>16074</th>\n",
              "      <td>you are a workaholic</td>\n",
              "      <td>youre a workaholic</td>\n",
              "    </tr>\n",
              "    <tr>\n",
              "      <th>2292</th>\n",
              "      <td>i might be able to help you</td>\n",
              "      <td>i may can help you</td>\n",
              "    </tr>\n",
              "    <tr>\n",
              "      <th>23563</th>\n",
              "      <td>you should work in the interests of humanity</td>\n",
              "      <td>you should be interested in  class you</td>\n",
              "    </tr>\n",
              "    <tr>\n",
              "      <th>10931</th>\n",
              "      <td>i think you like tom</td>\n",
              "      <td>i think you like tom</td>\n",
              "    </tr>\n",
              "    <tr>\n",
              "      <th>35231</th>\n",
              "      <td>you place me in a difficult position</td>\n",
              "      <td>you make me a  great</td>\n",
              "    </tr>\n",
              "    <tr>\n",
              "      <th>27542</th>\n",
              "      <td>you reek of alcohol</td>\n",
              "      <td>you are a</td>\n",
              "    </tr>\n",
              "    <tr>\n",
              "      <th>40811</th>\n",
              "      <td>do you want him</td>\n",
              "      <td>do you want it</td>\n",
              "    </tr>\n",
              "    <tr>\n",
              "      <th>26079</th>\n",
              "      <td>tom always washes his hands before eating anything</td>\n",
              "      <td>tom always eat before   he eating</td>\n",
              "    </tr>\n",
              "    <tr>\n",
              "      <th>39007</th>\n",
              "      <td>his picture was in the newspaper</td>\n",
              "      <td>the book was on the paper</td>\n",
              "    </tr>\n",
              "    <tr>\n",
              "      <th>19824</th>\n",
              "      <td>do you think itll be easy to find a job in boston</td>\n",
              "      <td>its is in   to in place</td>\n",
              "    </tr>\n",
              "  </tbody>\n",
              "</table>\n",
              "</div>"
            ],
            "text/plain": [
              "                                                   actual                               predicted\n",
              "18750            you cant have your own way in everything     you cant have your  way  everything\n",
              "24592    there are a lot of english books in this library       have a many books  in the library\n",
              "22681          my father encouraged me to study the piano                my father me  to   study\n",
              "5370                        tom is now a multimillionaire                        tom is a now    \n",
              "2128                  i bought a red sweater at that shop         bought   white sweater in this \n",
              "16074                                you are a workaholic                 youre a workaholic     \n",
              "2292                          i might be able to help you                   i may can help you   \n",
              "23563        you should work in the interests of humanity  you should be interested in  class you\n",
              "10931                                i think you like tom                 i think you like tom   \n",
              "35231                you place me in a difficult position                  you make me a  great  \n",
              "27542                                 you reek of alcohol                          you are a     \n",
              "40811                                     do you want him                      do you want it    \n",
              "26079  tom always washes his hands before eating anything       tom always eat before   he eating\n",
              "39007                    his picture was in the newspaper             the book was on the paper  \n",
              "19824   do you think itll be easy to find a job in boston                 its is in   to in place"
            ]
          },
          "metadata": {
            "tags": []
          },
          "execution_count": 26
        }
      ]
    },
    {
      "cell_type": "code",
      "metadata": {
        "id": "xhmwMsxGraAb",
        "colab_type": "code",
        "colab": {}
      },
      "source": [
        ""
      ],
      "execution_count": 0,
      "outputs": []
    }
  ]
}